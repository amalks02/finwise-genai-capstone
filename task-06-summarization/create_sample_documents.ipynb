{
  "nbformat": 4,
  "nbformat_minor": 0,
  "metadata": {
    "colab": {
      "provenance": [],
      "authorship_tag": "ABX9TyOz3IeVF5G9qngQe0UMImyh",
      "include_colab_link": true
    },
    "kernelspec": {
      "name": "python3",
      "display_name": "Python 3"
    },
    "language_info": {
      "name": "python"
    }
  },
  "cells": [
    {
      "cell_type": "markdown",
      "metadata": {
        "id": "view-in-github",
        "colab_type": "text"
      },
      "source": [
        "<a href=\"https://colab.research.google.com/github/amalks02/finwise-genai-capstone/blob/task-06-summarization/create_sample_documents.ipynb\" target=\"_parent\"><img src=\"https://colab.research.google.com/assets/colab-badge.svg\" alt=\"Open In Colab\"/></a>"
      ]
    },
    {
      "cell_type": "code",
      "execution_count": null,
      "metadata": {
        "id": "K61fnl7fcqzz"
      },
      "outputs": [],
      "source": [
        "import os\n",
        "from fpdf import FPDF\n",
        "\n",
        "# Ensure folder exists\n",
        "folder = \"sample_documents\"\n",
        "os.makedirs(folder, exist_ok=True)\n",
        "\n",
        "# Create KYC PDF\n",
        "pdf_path = os.path.join(folder, \"kyc_report.pdf\")\n",
        "pdf = FPDF()\n",
        "pdf.add_page()\n",
        "pdf.set_font(\"Arial\", size=12)\n",
        "\n",
        "pdf_content = \"\"\"KYC Compliance Report - Sample Document\n",
        "\n",
        "Customer Name: John Doe\n",
        "Account Number: 12345678\n",
        "Date of Account Opening: 01-Jan-2020\n",
        "Risk Profile: High\n",
        "\n",
        "Summary of Compliance Checks:\n",
        "1. Identity Verification Completed\n",
        "2. Address Verified\n",
        "3. Politically Exposed Person (PEP) Check: Passed\n",
        "4. Source of Funds Verified\n",
        "5. Risk Assessment Completed\n",
        "\n",
        "Remarks:\n",
        "All required compliance checks have been successfully completed. Customer is eligible for high-value transactions.\n",
        "\n",
        "End of Report\n",
        "\"\"\"\n",
        "\n",
        "for line in pdf_content.split(\"\\n\"):\n",
        "    pdf.cell(200, 10, txt=line, ln=True)\n",
        "\n",
        "pdf.output(pdf_path)\n",
        "\n",
        "# Create Credit Risk Text File\n",
        "text_path = os.path.join(folder, \"credit_risk.txt\")\n",
        "text_content = \"\"\"Credit Risk Analysis - Sample Document\n",
        "\n",
        "Loan Account: 987654321\n",
        "Customer: Jane Smith\n",
        "Loan Amount: 500,000\n",
        "Interest Rate: 8.5%\n",
        "Loan Tenure: 5 years\n",
        "\n",
        "Risk Assessment:\n",
        "- Payment History: Excellent\n",
        "- Outstanding Loans: None\n",
        "- Credit Score: 780\n",
        "\n",
        "Conclusion:\n",
        "The customer poses low credit risk. Recommended for loan approval.\n",
        "\"\"\"\n",
        "\n",
        "with open(text_path, \"w\", encoding=\"utf-8\") as f:\n",
        "    f.write(text_content)\n",
        "\n",
        "print(\"✅ Sample documents created inside 'sample_documents/' folder:\")\n",
        "print(f\"- PDF: {pdf_path}\")\n",
        "print(f\"- Text: {text_path}\")"
      ]
    }
  ]
}