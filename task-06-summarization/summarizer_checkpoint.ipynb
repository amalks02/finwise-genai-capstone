{
  "nbformat": 4,
  "nbformat_minor": 0,
  "metadata": {
    "colab": {
      "provenance": [],
      "authorship_tag": "ABX9TyPy7XL8eu6CU410tDtUtqyZ",
      "include_colab_link": true
    },
    "kernelspec": {
      "name": "python3",
      "display_name": "Python 3"
    },
    "language_info": {
      "name": "python"
    }
  },
  "cells": [
    {
      "cell_type": "markdown",
      "metadata": {
        "id": "view-in-github",
        "colab_type": "text"
      },
      "source": [
        "<a href=\"https://colab.research.google.com/github/amalks02/finwise-genai-capstone/blob/task-06-summarization/summarizer_checkpoint.ipynb\" target=\"_parent\"><img src=\"https://colab.research.google.com/assets/colab-badge.svg\" alt=\"Open In Colab\"/></a>"
      ]
    },
    {
      "cell_type": "code",
      "execution_count": null,
      "metadata": {
        "id": "QpI14Ak4ayHS"
      },
      "outputs": [],
      "source": [
        "# =================== Task 6: Summarization Engine (Gemini) ===================\n",
        "\n",
        "# Install dependencies (run once)\n",
        "!pip install langchain langchain-google-genai PyPDF2\n",
        "\n",
        "# Imports\n",
        "from langchain_google_genai import ChatGoogleGenerativeAI\n",
        "from langchain.document_loaders import PyPDFLoader, TextLoader\n",
        "from langchain.chains.summarize import load_summarize_chain\n",
        "import os\n",
        "\n",
        "# Import config\n",
        "from config import SAMPLE_DOCS_PATH, GEMINI_API_KEY\n",
        "\n",
        "# =================== Set Gemini API Key in Environment ===================\n",
        "os.environ[\"GOOGLE_API_KEY\"] = GEMINI_API_KEY  # ✅ Correct variable\n",
        "\n",
        "# =================== Load Documents ===================\n",
        "# PDF Example\n",
        "pdf_loader = PyPDFLoader(f\"{SAMPLE_DOCS_PATH}kyc_report.pdf\")\n",
        "documents = pdf_loader.load()\n",
        "\n",
        "# Text Example (uncomment if needed)\n",
        "# text_loader = TextLoader(f\"{SAMPLE_DOCS_PATH}credit_risk.txt\")\n",
        "# documents = text_loader.load()\n",
        "\n",
        "# =================== Initialize Gemini LLM ===================\n",
        "llm = ChatGoogleGenerativeAI(\n",
        "    model=\"gemini-pro\",  # ✅ Correct Gemini model\n",
        "    temperature=0\n",
        ")\n",
        "\n",
        "# =================== Setup Summarization Chain ===================\n",
        "summarize_chain = load_summarize_chain(llm=llm, chain_type=\"map_reduce\")\n",
        "\n",
        "# =================== Generate Summary ===================\n",
        "summary = summarize_chain.run(documents)\n",
        "\n",
        "# =================== Output ===================\n",
        "print(\"===== Document Summary =====\")\n",
        "print(summary)\n",
        "\n",
        "# =================== Save Summary ===================\n",
        "with open(f\"{SAMPLE_DOCS_PATH}summary_output.txt\", \"w\", encoding=\"utf-8\") as f:\n",
        "    f.write(summary)"
      ]
    }
  ]
}