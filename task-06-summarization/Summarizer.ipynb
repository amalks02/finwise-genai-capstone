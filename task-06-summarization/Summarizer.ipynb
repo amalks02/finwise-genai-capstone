{
  "nbformat": 4,
  "nbformat_minor": 0,
  "metadata": {
    "colab": {
      "provenance": [],
      "authorship_tag": "ABX9TyNHYLACU6KljRGh/OkPzc8T",
      "include_colab_link": true
    },
    "kernelspec": {
      "name": "python3",
      "display_name": "Python 3"
    },
    "language_info": {
      "name": "python"
    }
  },
  "cells": [
    {
      "cell_type": "markdown",
      "metadata": {
        "id": "view-in-github",
        "colab_type": "text"
      },
      "source": [
        "<a href=\"https://colab.research.google.com/github/amalks02/finwise-genai-capstone/blob/task-06-summarization/Summarizer.ipynb\" target=\"_parent\"><img src=\"https://colab.research.google.com/assets/colab-badge.svg\" alt=\"Open In Colab\"/></a>"
      ]
    },
    {
      "cell_type": "code",
      "execution_count": null,
      "metadata": {
        "id": "iPhzSnTtccLI"
      },
      "outputs": [],
      "source": [
        "import os\n",
        "from config import SAMPLE_DOCS_PATH, GEMINI_API_KEY\n",
        "\n",
        "# Document loaders\n",
        "from langchain_community.document_loaders import PyPDFLoader, TextLoader\n",
        "\n",
        "# Chains and prompts\n",
        "from langchain.chains import LLMChain\n",
        "from langchain.prompts import PromptTemplate\n",
        "#from langchain.chains.combine_documents import MapReduceDocumentsChain\n",
        "from langchain.chains import AnalyzeDocumentChain, LLMChain\n",
        "from langchain.prompts import PromptTemplate\n",
        "\n",
        "# Google GenAI LLM (correct import)\n",
        "from langchain_google_genai import ChatGoogleGenerativeAI\n",
        "\n",
        "# Load documents\n",
        "documents = []\n",
        "for filename in os.listdir(SAMPLE_DOCS_PATH):\n",
        "    file_path = os.path.join(SAMPLE_DOCS_PATH, filename)\n",
        "    if filename.lower().endswith(\".pdf\"):\n",
        "        loader = PyPDFLoader(file_path)\n",
        "        documents.extend(loader.load())\n",
        "    elif filename.lower().endswith(\".txt\"):\n",
        "        loader = TextLoader(file_path)\n",
        "        documents.extend(loader.load())\n",
        "\n",
        "# Initialize Google GenAI LLM\n",
        "#llm = ChatGoogleGenerativeAI(api_key=GEMINI_API_KEY)\n",
        "from langchain_google_genai import ChatGoogleGenerativeAI\n",
        "\n",
        "llm = ChatGoogleGenerativeAI(\n",
        "    model=\"gemini-1.5-pro\",   # required field\n",
        "    api_key=GEMINI_API_KEY    # your API key from config\n",
        ")\n",
        "\n",
        "# Prompt template\n",
        "prompt = PromptTemplate(\n",
        "    input_variables=[\"text\"],\n",
        "    template=\"Summarize the following document:\\n\\n{text}\\n\\nSummary:\"\n",
        ")\n",
        "\n",
        "# MapReduce chain\n",
        "summarize_chain = MapReduceDocumentsChain(\n",
        "    llm_chain=LLMChain(llm=llm, prompt=prompt)\n",
        ")\n",
        "\n",
        "# Run summarization\n",
        "summary = summarize_chain.run(documents)\n",
        "\n",
        "# Output summary\n",
        "print(\"\\n📄 Summary of all documents:\\n\")\n",
        "print(summary)"
      ]
    }
  ]
}