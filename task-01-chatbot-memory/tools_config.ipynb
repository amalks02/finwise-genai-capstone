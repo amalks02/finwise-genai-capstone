{
  "nbformat": 4,
  "nbformat_minor": 0,
  "metadata": {
    "colab": {
      "provenance": [],
      "authorship_tag": "ABX9TyPwyMRic3HB5/bzfqHQ9+EW",
      "include_colab_link": true
    },
    "kernelspec": {
      "name": "python3",
      "display_name": "Python 3"
    },
    "language_info": {
      "name": "python"
    }
  },
  "cells": [
    {
      "cell_type": "markdown",
      "metadata": {
        "id": "view-in-github",
        "colab_type": "text"
      },
      "source": [
        "<a href=\"https://colab.research.google.com/github/amalks02/finwise-genai-capstone/blob/task-02-agent-tools-langgraph/tools_config.ipynb\" target=\"_parent\"><img src=\"https://colab.research.google.com/assets/colab-badge.svg\" alt=\"Open In Colab\"/></a>"
      ]
    },
    {
      "cell_type": "code",
      "execution_count": null,
      "metadata": {
        "id": "gI9od3NueclY"
      },
      "outputs": [],
      "source": [
        "# tools_config.py\n",
        "\n",
        "import requests\n",
        "from langchain_core.tools import tool\n",
        "\n",
        "# --------------------\n",
        "# Calculator Tool\n",
        "# --------------------\n",
        "@tool\n",
        "def calculator(expression: str) -> str:\n",
        "    \"\"\"Evaluate a mathematical expression.\"\"\"\n",
        "    try:\n",
        "        return str(eval(expression))\n",
        "    except Exception as e:\n",
        "        return str(e)\n",
        "\n",
        "# --------------------\n",
        "# Python REPL Tool\n",
        "# --------------------\n",
        "@tool\n",
        "def python_repl(code: str) -> dict:\n",
        "    \"\"\"Execute Python code and return local variables.\"\"\"\n",
        "    try:\n",
        "        local_vars = {}\n",
        "        exec(code, {}, local_vars)\n",
        "        return local_vars\n",
        "    except Exception as e:\n",
        "        return {\"error\": str(e)}\n",
        "\n",
        "# --------------------\n",
        "# Requests Tool (Currency conversion)\n",
        "# --------------------\n",
        "@tool\n",
        "def requests_tool(query: str) -> str:\n",
        "    \"\"\"\n",
        "    Convert currency using live API.\n",
        "    Example query: '5000 INR to USD'\n",
        "    \"\"\"\n",
        "    try:\n",
        "        amount_str, rest = query.split(\" \", 1)\n",
        "        amount = float(amount_str)\n",
        "        from_currency, to_currency = rest.split(\" to \")\n",
        "        url = f\"https://api.exchangerate.host/convert?from={from_currency}&to={to_currency}&amount={amount}\"\n",
        "        res = requests.get(url).json()\n",
        "        if \"result\" in res:\n",
        "            return f\"{amount} {from_currency} = {res['result']} {to_currency}\"\n",
        "        return str(res)\n",
        "    except Exception as e:\n",
        "        return str(e)"
      ]
    }
  ]
}