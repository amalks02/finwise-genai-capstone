{
  "nbformat": 4,
  "nbformat_minor": 0,
  "metadata": {
    "colab": {
      "provenance": [],
      "authorship_tag": "ABX9TyOYkjZjmBwXq2WFuYE+bTRQ",
      "include_colab_link": true
    },
    "kernelspec": {
      "name": "python3",
      "display_name": "Python 3"
    },
    "language_info": {
      "name": "python"
    }
  },
  "cells": [
    {
      "cell_type": "markdown",
      "metadata": {
        "id": "view-in-github",
        "colab_type": "text"
      },
      "source": [
        "<a href=\"https://colab.research.google.com/github/amalks02/finwise-genai-capstone/blob/task-05-sql-qa/create_db.ipynb\" target=\"_parent\"><img src=\"https://colab.research.google.com/assets/colab-badge.svg\" alt=\"Open In Colab\"/></a>"
      ]
    },
    {
      "cell_type": "code",
      "execution_count": null,
      "metadata": {
        "id": "m5F1pKsVZkLk"
      },
      "outputs": [],
      "source": [
        "# createdb.py\n",
        "import sqlite3\n",
        "\n",
        "DB_PATH = \"portfolio.db\"\n",
        "conn = sqlite3.connect(DB_PATH)\n",
        "cursor = conn.cursor()\n",
        "\n",
        "# Drop table if exists (for re-runs)\n",
        "cursor.execute(\"DROP TABLE IF EXISTS clients;\")\n",
        "\n",
        "cursor.execute(\"\"\"\n",
        "CREATE TABLE clients (\n",
        "    id INTEGER PRIMARY KEY,\n",
        "    name TEXT,\n",
        "    portfolio_value INTEGER,\n",
        "    investments INTEGER,\n",
        "    risk_profile TEXT\n",
        ")\n",
        "\"\"\")\n",
        "\n",
        "sample_data = [\n",
        "    (1, 'Alice', 600000, 250000, 'High'),\n",
        "    (2, 'Bob', 450000, 150000, 'Medium'),\n",
        "    (3, 'Charlie', 750000, 300000, 'High'),\n",
        "    (4, 'Diana', 500000, 200000, 'Low'),\n",
        "    (5, 'Eve', 300000, 100000, 'Low')\n",
        "]\n",
        "\n",
        "cursor.executemany(\"INSERT INTO clients VALUES (?, ?, ?, ?, ?)\", sample_data)\n",
        "conn.commit()\n",
        "conn.close()\n",
        "print(\"✅ portfolio.db created and populated successfully!\")"
      ]
    }
  ]
}