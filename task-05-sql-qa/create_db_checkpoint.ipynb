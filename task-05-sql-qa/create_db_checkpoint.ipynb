{
  "nbformat": 4,
  "nbformat_minor": 0,
  "metadata": {
    "colab": {
      "provenance": [],
      "authorship_tag": "ABX9TyN/RXF+yRFTrW/mjP7WLGDo",
      "include_colab_link": true
    },
    "kernelspec": {
      "name": "python3",
      "display_name": "Python 3"
    },
    "language_info": {
      "name": "python"
    }
  },
  "cells": [
    {
      "cell_type": "markdown",
      "metadata": {
        "id": "view-in-github",
        "colab_type": "text"
      },
      "source": [
        "<a href=\"https://colab.research.google.com/github/amalks02/finwise-genai-capstone/blob/task-05-sql-qa/create_db_checkpoint.ipynb\" target=\"_parent\"><img src=\"https://colab.research.google.com/assets/colab-badge.svg\" alt=\"Open In Colab\"/></a>"
      ]
    },
    {
      "cell_type": "code",
      "execution_count": null,
      "metadata": {
        "id": "Grl_WSzTY4DU"
      },
      "outputs": [],
      "source": [
        "import sqlite3\n",
        "from datetime import datetime, timedelta\n",
        "import random\n",
        "\n",
        "# Connect to SQLite database (creates portfolio.db if it doesn't exist)\n",
        "conn = sqlite3.connect(\"portfolio.db\")\n",
        "cursor = conn.cursor()\n",
        "\n",
        "# Create clients table\n",
        "cursor.execute(\"\"\"\n",
        "CREATE TABLE IF NOT EXISTS clients (\n",
        "    client_id INTEGER PRIMARY KEY,\n",
        "    name TEXT,\n",
        "    age INTEGER,\n",
        "    risk_profile TEXT,\n",
        "    portfolio_value REAL\n",
        ")\n",
        "\"\"\")\n",
        "\n",
        "# Create investments table\n",
        "cursor.execute(\"\"\"\n",
        "CREATE TABLE IF NOT EXISTS investments (\n",
        "    investment_id INTEGER PRIMARY KEY,\n",
        "    client_id INTEGER,\n",
        "    fund_name TEXT,\n",
        "    amount_invested REAL,\n",
        "    date TEXT,\n",
        "    FOREIGN KEY(client_id) REFERENCES clients(client_id)\n",
        ")\n",
        "\"\"\")\n",
        "\n",
        "# Insert 30 sample clients\n",
        "risk_profiles = [\"Low\", \"Medium\", \"High\"]\n",
        "for i in range(1, 31):\n",
        "    cursor.execute(\"\"\"\n",
        "    INSERT INTO clients (name, age, risk_profile, portfolio_value)\n",
        "    VALUES (?, ?, ?, ?)\n",
        "    \"\"\", (\n",
        "        f\"Client_{i}\",\n",
        "        random.randint(25, 65),\n",
        "        random.choice(risk_profiles),\n",
        "        random.randint(100000, 1000000)\n",
        "    ))\n",
        "\n",
        "# Insert 1-5 investments per client\n",
        "fund_names = [\"Equity Fund\", \"Bond Fund\", \"Mutual Fund\", \"ETF\"]\n",
        "for i in range(1, 31):\n",
        "    for j in range(random.randint(1, 5)):\n",
        "        cursor.execute(\"\"\"\n",
        "        INSERT INTO investments (client_id, fund_name, amount_invested, date)\n",
        "        VALUES (?, ?, ?, ?)\n",
        "        \"\"\", (\n",
        "            i,\n",
        "            random.choice(fund_names),\n",
        "            random.randint(50000, 300000),\n",
        "            (datetime.today() - timedelta(days=random.randint(0, 365))).strftime(\"%Y-%m-%d\")\n",
        "        ))\n",
        "\n",
        "conn.commit()\n",
        "conn.close()\n",
        "\n",
        "print(\"✅ portfolio.db created and populated successfully!\")"
      ]
    }
  ]
}