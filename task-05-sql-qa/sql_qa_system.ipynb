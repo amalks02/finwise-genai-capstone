{
  "nbformat": 4,
  "nbformat_minor": 0,
  "metadata": {
    "colab": {
      "provenance": [],
      "authorship_tag": "ABX9TyOoUbYonOqxlf86TQfd/4Pn",
      "include_colab_link": true
    },
    "kernelspec": {
      "name": "python3",
      "display_name": "Python 3"
    },
    "language_info": {
      "name": "python"
    }
  },
  "cells": [
    {
      "cell_type": "markdown",
      "metadata": {
        "id": "view-in-github",
        "colab_type": "text"
      },
      "source": [
        "<a href=\"https://colab.research.google.com/github/amalks02/finwise-genai-capstone/blob/task-05-sql-qa/sql_qa_system.ipynb\" target=\"_parent\"><img src=\"https://colab.research.google.com/assets/colab-badge.svg\" alt=\"Open In Colab\"/></a>"
      ]
    },
    {
      "cell_type": "code",
      "execution_count": null,
      "metadata": {
        "id": "O4g66YNoZ5Ye"
      },
      "outputs": [],
      "source": [
        "# sql_qa_system.ipynb\n",
        "# --------------------------\n",
        "\n",
        "# 1️⃣ Import required modules\n",
        "from langchain.sql_database import SQLDatabase\n",
        "import sqlite3\n",
        "\n",
        "# 2️⃣ Database path\n",
        "DB_PATH = \"portfolio.db\"\n",
        "\n",
        "# 3️⃣ Connect to your SQLite database\n",
        "db = SQLDatabase.from_uri(f\"sqlite:///{DB_PATH}\")\n",
        "\n",
        "# 4️⃣ Function to execute SQL queries\n",
        "def run_sql(user_query):\n",
        "    \"\"\"\n",
        "    Execute SQL query directly on the database.\n",
        "    Returns the query result or error message.\n",
        "    \"\"\"\n",
        "    try:\n",
        "        result = db.run(user_query)\n",
        "        return result\n",
        "    except Exception as e:\n",
        "        return f\"Error executing SQL: {e}\"\n",
        "\n",
        "# 5️⃣ Sample queries (replace these with your natural language -> SQL)\n",
        "queries = [\n",
        "    \"SELECT * FROM clients WHERE portfolio_value > 500000;\",\n",
        "    \"SELECT * FROM clients WHERE risk_profile='High' AND investments > 200000;\",\n",
        "    \"SELECT name, SUM(investments) AS total_investment FROM clients GROUP BY name;\",\n",
        "    \"SELECT * FROM clients WHERE risk_profile='Low' AND portfolio_value BETWEEN 200000 AND 800000;\"\n",
        "]\n",
        "\n",
        "# 6️⃣ Execute queries and print results\n",
        "for q in queries:\n",
        "    print(f\"\\n🔹 SQL Query: {q}\")\n",
        "    result = run_sql(q)\n",
        "    print(\"Result:\")\n",
        "    print(result)\n",
        "    print(\"=\"*60)"
      ]
    }
  ]
}